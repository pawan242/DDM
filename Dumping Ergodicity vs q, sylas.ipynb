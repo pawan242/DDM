{
 "cells": [
  {
   "cell_type": "code",
   "execution_count": 1,
   "metadata": {},
   "outputs": [
    {
     "name": "stderr",
     "output_type": "stream",
     "text": [
      "tiff_file.py:1995: UserWarning: failed to import _tifffile.decodepackbits\n",
      "  warnings.warn(\"failed to import %s\" % module_function)\n",
      "tiff_file.py:1995: UserWarning: failed to import _tifffile.decodelzw\n",
      "  warnings.warn(\"failed to import %s\" % module_function)\n",
      "tiff_file.py:1995: UserWarning: failed to import _tifffile.unpackints\n",
      "  warnings.warn(\"failed to import %s\" % module_function)\n"
     ]
    }
   ],
   "source": [
    "%matplotlib notebook\n",
    "import numpy as np\n",
    "import matplotlib\n",
    "import matplotlib.pyplot as plt\n",
    "\n",
    "font_plt = {'family': 'serif','color':  'darkred','weight': 'normal','size': 8,}\n",
    "font_plt_ax = {'family': 'serif','color':  'black','weight': 'normal', 'size': 8,}\n",
    "\n",
    "import numpy as np #numerical python used for working with arrays, mathematical operations\n",
    "import time #useful for timing functions\n",
    "import sys\n",
    "import os\n",
    "import csv\n",
    "import glob #glob is helpful for searching for filenames or directories\n",
    "import ddm_clean as ddm #this is the module containing the differential dynamic microscopy code\n",
    "import scipy #scientific python\n",
    "from scipy.signal import blackmanharris as bh #for Blackman-Harris windowing\n",
    "from scipy.optimize import leastsq\n",
    "import pickle #for saving data"
   ]
  },
  {
   "cell_type": "code",
   "execution_count": 94,
   "metadata": {},
   "outputs": [
    {
     "name": "stdout",
     "output_type": "stream",
     "text": [
      "23\n"
     ]
    }
   ],
   "source": [
    "root = \"Y:\\\\Jon_Garamella\\\\data\\\\sylas\\\\2020_XLbeads\\\\ddm_pickles\\\\\"\n",
    "condition = \"Both_XL\\\\\"\n",
    "pickle_files_to_load = glob.glob(root+condition+\"*16*.p\")\n",
    "print len(pickle_files_to_load)\n",
    "data = {}\n",
    "for i,filename in enumerate(pickle_files_to_load):\n",
    "        f = open(filename,'rb') #open file for reading\n",
    "        pickled_data = pickle.load(f) #load data from file\n",
    "        f.close()\n",
    "        \n",
    "        data[(pickled_data['Movie'],pickled_data['ROI'])] = pickled_data"
   ]
  },
  {
   "cell_type": "code",
   "execution_count": 96,
   "metadata": {},
   "outputs": [],
   "source": [
    "for vid in range(4,7):\n",
    "    f = open(root+condition + \"BothXL_20_1_16_beads_qVSc_video_%i.csv\" %vid,'wb')\n",
    "    filewriter = csv.writer(f, delimiter=',')\n",
    "    filewriter.writerow([\"(Movie,ROI)\"])\n",
    "    \n",
    "    filewriter.writerow(['q','%i,0' %vid,'%i,1' %vid,'%i,2' %vid,'%i,3' %vid])\n",
    "    for i in range(127):\n",
    "        filewriter.writerow([data[(1,0)][\"qs\"][i], data[(vid,0)][\"c\"][i],data[(vid,1)][\"c\"][i],\n",
    "                data[(vid,2)][\"c\"][i], data[(vid,3)][\"c\"][i]])\n",
    "    f.close()"
   ]
  },
  {
   "cell_type": "code",
   "execution_count": 43,
   "metadata": {},
   "outputs": [
    {
     "data": {
      "text/plain": [
       "[1, 2, 3, 4, 5, 6]"
      ]
     },
     "execution_count": 43,
     "metadata": {},
     "output_type": "execute_result"
    }
   ],
   "source": [
    "range(1,7)"
   ]
  },
  {
   "cell_type": "code",
   "execution_count": 97,
   "metadata": {},
   "outputs": [],
   "source": [
    "vid=3\n",
    "f = open(root+condition + \"BothXL_20_1_16_beads_qVSc_video_%i.csv\" %vid,'wb')\n",
    "filewriter = csv.writer(f, delimiter=',')\n",
    "filewriter.writerow([\"(Movie,ROI)\"])\n",
    "    \n",
    "filewriter.writerow(['q','%i,0' %vid,'%i,1' %vid,'%i,3' %vid])\n",
    "for i in range(127):\n",
    "    filewriter.writerow([data[(1,0)][\"qs\"][i], data[(vid,0)][\"c\"][i],data[(vid,1)][\"c\"][i], data[(vid,2)][\"c\"][i]])\n",
    "f.close()"
   ]
  },
  {
   "cell_type": "code",
   "execution_count": null,
   "metadata": {},
   "outputs": [],
   "source": []
  }
 ],
 "metadata": {
  "kernelspec": {
   "display_name": "Python 2",
   "language": "python",
   "name": "python2"
  },
  "language_info": {
   "codemirror_mode": {
    "name": "ipython",
    "version": 2
   },
   "file_extension": ".py",
   "mimetype": "text/x-python",
   "name": "python",
   "nbconvert_exporter": "python",
   "pygments_lexer": "ipython2",
   "version": "2.7.16"
  }
 },
 "nbformat": 4,
 "nbformat_minor": 2
}
