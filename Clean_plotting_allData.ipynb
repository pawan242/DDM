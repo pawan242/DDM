{
 "cells": [
  {
   "cell_type": "code",
   "execution_count": 1,
   "metadata": {},
   "outputs": [
    {
     "name": "stderr",
     "output_type": "stream",
     "text": [
      "C:\\Users\\research\\anaconda3\\lib\\site-packages\\IPython\\html.py:12: ShimWarning: The `IPython.html` package has been deprecated since IPython 4.0. You should import from `notebook` instead. `IPython.html.widgets` has moved to `ipywidgets`.\n",
      "  warn(\"The `IPython.html` package has been deprecated since IPython 4.0. \"\n",
      "Y:\\Pawan K\\DDM\\tiff_file.py:1995: UserWarning: failed to import _tifffile.decodepackbits\n",
      "  warnings.warn(\"failed to import %s\" % module_function)\n",
      "Y:\\Pawan K\\DDM\\tiff_file.py:1995: UserWarning: failed to import _tifffile.decodelzw\n",
      "  warnings.warn(\"failed to import %s\" % module_function)\n",
      "Y:\\Pawan K\\DDM\\tiff_file.py:1995: UserWarning: failed to import _tifffile.unpackints\n",
      "  warnings.warn(\"failed to import %s\" % module_function)\n"
     ]
    }
   ],
   "source": [
    "#Import all of the necessary packages\n",
    "import numpy as np\n",
    "import matplotlib\n",
    "import matplotlib.pyplot as plt\n",
    "from IPython.html.widgets import interact, fixed\n",
    "import ipywidgets as widgets\n",
    "\n",
    "import io\n",
    "\n",
    "font_plt = {'family': 'serif',\n",
    "            'color':  'darkred',\n",
    "            'weight': 'normal',\n",
    "            'size': 10,\n",
    "            }\n",
    "font_plt_ax = {'family': 'serif',\n",
    "               'color':  'black',\n",
    "               'weight': 'normal',\n",
    "               'size': 10,\n",
    "              }\n",
    "import sys\n",
    "import glob #glob is helpful for searching for filenames or directories\n",
    "import ddm_clean as ddm #this is the module containing the differential dynamic microscopy code\n",
    "import scipy #scientific python\n",
    "from scipy.signal import blackmanharris as bh #for Blackman-Harris windowing\n",
    "import pickle #for saving data\n",
    "\n",
    "import mpld3"
   ]
  },
  {
   "cell_type": "code",
   "execution_count": 2,
   "metadata": {},
   "outputs": [],
   "source": [
    "dts = ddm.genLogDist(1,2998,400)\n",
    "dts2 = ddm.genLogDist(1,998,400)"
   ]
  },
  {
   "cell_type": "code",
   "execution_count": 3,
   "metadata": {},
   "outputs": [],
   "source": [
    "Sample = ['allResults_0.02mgmlDNA_ActinNetwork_29fps_34exp_256x256', 'allResults_0.02mgmlDNA_ActinNetwork_29fps_34exp_2_256x256']"
   ]
  },
  {
   "cell_type": "code",
   "execution_count": 4,
   "metadata": {},
   "outputs": [],
   "source": [
    "newt = lambda t,s: (1./s)*gamma(1./s)*t\n",
    "px = 0.1884\n",
    "imDimension = 256\n",
    "q = np.arange(0,imDimension/2)*2*np.pi*(1./(imDimension*px))\n",
    "imDimension2 = 256\n",
    "q2 = np.arange(0,imDimension2/2)*2*np.pi*(1./(imDimension2*px))"
   ]
  },
  {
   "cell_type": "code",
   "execution_count": 5,
   "metadata": {},
   "outputs": [],
   "source": [
    "#Load in the allResults file  \n",
    "dat = \"Y:\\\\Pawan K\\\\2021_DATA\\\\DDM_VIDEOS\\\\ffts\\\\1_1\\\\\"\n",
    "datF = \"allResults_1.p\"\n",
    "Round2_Results = pickle.load(open(dat + datF,'rb'))"
   ]
  },
  {
   "cell_type": "code",
   "execution_count": 6,
   "metadata": {},
   "outputs": [],
   "source": [
    "def DiffCoef (newtau_average, qrange, qmin, qmax):\n",
    "    nt = newtau_average\n",
    "    indx = (qrange>qmin) & (qrange<qmax)\n",
    "    ds = (qrange[indx]**-2.0) / nt[indx]\n",
    "    return ds.mean(), indx\n",
    "\n",
    "def plot_results( qmin = q[2], qmax = q[10]):\n",
    "    taus = tauB[chg,1:-1]\n",
    "    b = np.where((q>=qmin)&(q<=qmax))\n",
    "    a = np.polyfit( np.log(q[b[0]]),np.log(tauB[0,b[0]]), 1)\n",
    "    slope = a[0]\n",
    "    coef1 = np.exp(a[1])\n",
    "    Dif = (1/coef1)\n",
    "    alpha = 2./(-1*slope)\n",
    "    #ifDifff = DiffCoef(taus,b[0],qmin,qmax)\n",
    "    fig,ax = plt.subplots(figsize=(8,8/1.618))\n",
    "    ax.loglog(q[1:-2], taus, 'ro')\n",
    "    ax.loglog(q[1:-2], coef1*(q[1:-2])**slope, '-k')\n",
    "    #ax.plot(q[1:-2], (1./ifDiff[0]) * 1./(q[1:-2]**2.0), '--k')\n",
    "    ax.loglog(q[b[0]],tauB[0,b[0]],'b.')\n",
    "    ax.text(0.55,0.8,'D = %.3f' %Dif, \n",
    "        fontdict=font_plt,horizontalalignment='left', \n",
    "        verticalalignment='center', transform=ax.transAxes)\n",
    "    ax.text(0.55,0.66,'slope = %.2f' %alpha, \n",
    "        fontdict=font_plt,horizontalalignment='left', \n",
    "        verticalalignment='center', transform=ax.transAxes)\n",
    "    ax.set_ylabel(\" Tau\", fontdict=font_plt_ax)"
   ]
  },
  {
   "cell_type": "code",
   "execution_count": 7,
   "metadata": {},
   "outputs": [
    {
     "ename": "KeyError",
     "evalue": "'allTaus_Buffer'",
     "output_type": "error",
     "traceback": [
      "\u001b[1;31m---------------------------------------------------------------------------\u001b[0m",
      "\u001b[1;31mKeyError\u001b[0m                                  Traceback (most recent call last)",
      "\u001b[1;32m<ipython-input-7-ec8765da712a>\u001b[0m in \u001b[0;36m<module>\u001b[1;34m\u001b[0m\n\u001b[1;32m----> 1\u001b[1;33m \u001b[0mtauB\u001b[0m \u001b[1;33m=\u001b[0m \u001b[0mRound2_Results\u001b[0m\u001b[1;33m[\u001b[0m\u001b[1;34m'allTaus_Buffer'\u001b[0m\u001b[1;33m]\u001b[0m\u001b[1;33m\u001b[0m\u001b[1;33m\u001b[0m\u001b[0m\n\u001b[0m",
      "\u001b[1;31mKeyError\u001b[0m: 'allTaus_Buffer'"
     ]
    }
   ],
   "source": [
    "tauB = Round2_Results['allTaus_Buffer']"
   ]
  },
  {
   "cell_type": "code",
   "execution_count": 8,
   "metadata": {},
   "outputs": [
    {
     "data": {
      "application/vnd.jupyter.widget-view+json": {
       "model_id": "471fb898c6f04577af5acd03f4b02a92",
       "version_major": 2,
       "version_minor": 0
      },
      "text/plain": [
       "interactive(children=(FloatSlider(value=0.2605487537810006, description='qmin', max=0.6513718844525015, min=0.…"
      ]
     },
     "metadata": {},
     "output_type": "display_data"
    },
    {
     "data": {
      "text/plain": [
       "<function __main__.plot_results(qmin=0.2605487537810006, qmax=1.302743768905003)>"
      ]
     },
     "execution_count": 8,
     "metadata": {},
     "output_type": "execute_result"
    }
   ],
   "source": [
    "%matplotlib inline\n",
    "mpld3.enable_notebook()\n",
    "chg = 0\n",
    "interact(plot_results, qmin = (q[1],q[5]), qmax = (q[4],q[10]), continuous_update=False)"
   ]
  },
  {
   "cell_type": "code",
   "execution_count": null,
   "metadata": {
    "collapsed": true
   },
   "outputs": [],
   "source": [
    "%matplotlib inline\n",
    "mpld3.enable_notebook()\n",
    "\n",
    "a = ['Dilute','MT','Actin','Copoly']\n",
    "cc = ['ro', 'bo','go','mo']\n",
    "diffusionCo = [0.309,0.039,0.0037,0.0031]\n",
    "\n",
    "\n",
    "fig,ax = plt.subplots(figsize=(8,8/1.618))\n",
    "for i in range(4):\n",
    "    taus = Ana_data[a[i]+'_average_newtau']\n",
    "    ax.loglog(taus,(2*np.pi)/q[3:-1],  cc[i])\n",
    "ax.set_ylim(1.0,11)\n",
    "#plt.savefig('E:\\\\AllData_Results\\\\AllConditions.svg')\n",
    "\n",
    "    #ax.plot((1./diffusionCo[i]) * 1./(q[5:-42]**slope[i]), (2*np.pi)/q[5:-42],  '-k')\n",
    "\n",
    "\n",
    "for i in range(4):\n",
    "    fig,ax = plt.subplots(figsize=(8,8/1.618))\n",
    "    taus = Ana_data[a[i]+'_average_newtau']\n",
    "    ax.loglog(taus,(2*np.pi)/q[3:-1],  cc[i])\n",
    "    ax.plot((1./0.1) * 1./(q[2:-42]**2.0), (2*np.pi)/q[2:-42],  '-k')\n",
    "    ax.set_ylim(1.0,11)\n",
    "    #plt.savefig('E:\\\\AllData_Results\\\\'+a[i]+'Condition.svg')\n",
    "    \n",
    "    #ax.errorbar(q[3:-30],taus[:-29],yerr=taustd[:-29],fmt=cc[i], elinewidth = 1.3, capsize=2)"
   ]
  }
 ],
 "metadata": {
  "kernelspec": {
   "display_name": "Python 3",
   "language": "python",
   "name": "python3"
  },
  "language_info": {
   "codemirror_mode": {
    "name": "ipython",
    "version": 3
   },
   "file_extension": ".py",
   "mimetype": "text/x-python",
   "name": "python",
   "nbconvert_exporter": "python",
   "pygments_lexer": "ipython3",
   "version": "3.8.5"
  }
 },
 "nbformat": 4,
 "nbformat_minor": 2
}
